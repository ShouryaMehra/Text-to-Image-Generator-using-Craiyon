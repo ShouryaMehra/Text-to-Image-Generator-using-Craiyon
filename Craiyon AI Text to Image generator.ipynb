{
 "cells": [
  {
   "cell_type": "code",
   "execution_count": null,
   "id": "6d0c582d",
   "metadata": {},
   "outputs": [],
   "source": [
    "# load libraries\n",
    "from craiyon import Craiyon"
   ]
  },
  {
   "cell_type": "code",
   "execution_count": null,
   "id": "a76e445a",
   "metadata": {},
   "outputs": [],
   "source": [
    "generator = Craiyon() # Instantiates the api wrapper"
   ]
  },
  {
   "cell_type": "code",
   "execution_count": null,
   "id": "4228c5ac",
   "metadata": {},
   "outputs": [],
   "source": [
    "# generate images\n",
    "result = generator.generate(\"AI in real world\")"
   ]
  },
  {
   "cell_type": "code",
   "execution_count": null,
   "id": "64ffdbf7",
   "metadata": {},
   "outputs": [],
   "source": [
    "# save images\n",
    "result.save_images(\"output_folder\") # set folder location"
   ]
  }
 ],
 "metadata": {
  "kernelspec": {
   "display_name": "Python 3 (ipykernel)",
   "language": "python",
   "name": "python3"
  },
  "language_info": {
   "codemirror_mode": {
    "name": "ipython",
    "version": 3
   },
   "file_extension": ".py",
   "mimetype": "text/x-python",
   "name": "python",
   "nbconvert_exporter": "python",
   "pygments_lexer": "ipython3",
   "version": "3.9.13"
  }
 },
 "nbformat": 4,
 "nbformat_minor": 5
}
